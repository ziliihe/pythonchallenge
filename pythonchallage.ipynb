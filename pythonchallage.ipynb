{
 "cells": [
  {
   "cell_type": "markdown",
   "id": "1b411f62-cb1d-44ca-ad99-478ed73dfe45",
   "metadata": {},
   "source": [
    "http://www.pythonchallenge.com/"
   ]
  },
  {
   "cell_type": "code",
   "execution_count": 6,
   "id": "0271a621-4969-4c8b-8670-43cec47c564b",
   "metadata": {},
   "outputs": [
    {
     "name": "stdout",
     "output_type": "stream",
     "text": [
      "http://www.pythonchallenge.com/pc/def/274877906944.html\n"
     ]
    }
   ],
   "source": [
    "# level 0\n",
    "raw_url = \"http://www.pythonchallenge.com/pc/def/0.html\"\n",
    "data = pow(2, 38)\n",
    "print(raw_url.replace('0', str(data)))"
   ]
  },
  {
   "cell_type": "code",
   "execution_count": 37,
   "id": "b001764a-4d60-45f6-a282-490f2f34244b",
   "metadata": {},
   "outputs": [
    {
     "name": "stdout",
     "output_type": "stream",
     "text": [
      "i hope you didnt translate it by hand  thats what computers are for  doing it in by hand is inefficient and that s why this text is so long  using string maketrans   is recommended  now apply on the url\n",
      "i hope you didnt translate it by hand. thats what computers are for. doing it in by hand is inefficient and that's why this text is so long. using string.maketrans() is recommended. now apply on the url\n",
      "http://www.pythonchallenge.com/pc/def/ocr.html\n"
     ]
    }
   ],
   "source": [
    "# level 1\n",
    "raw_data = \"g fmnc wms bgblr rpylqjyrc gr zw fylb. rfyrq ufyr amknsrcpq ypc dmp. bmgle gr gl zw fylb gq glcddgagclr ylb rfyr'q ufw rfgq rcvr gq qm jmle. sqgle qrpgle.kyicrpylq() gq pcamkkclbcb. lmu ynnjw ml rfc spj\".lower()\n",
    "data = \"\"\n",
    "for i in raw_data:\n",
    "    tmp = ord(i)\n",
    "    if tmp != 32 and tmp <=120 and tmp >=97:\n",
    "        data += chr(ord(i)+2)\n",
    "    elif i=='y':\n",
    "        data += 'a'\n",
    "    elif i=='z':\n",
    "        data += 'b'\n",
    "    else:\n",
    "        data += \" \"\n",
    "print(data)\n",
    "\n",
    "raw_in = \"abcdefghijklmnopqrstuvwxyz\"\n",
    "new_out = \"cdefghijklmnopqrstuvwxyzab\"\n",
    "ntrans = raw_data.maketrans(raw_in, new_out)\n",
    "print(raw_data.translate(ntrans))\n",
    "raw_url = \"http://www.pythonchallenge.com/pc/def/map.html\"\n",
    "print(raw_url.replace(\"map\", \"map\".translate(ntrans)))"
   ]
  },
  {
   "cell_type": "code",
   "execution_count": 55,
   "id": "8df2f1ba-1655-4d6f-ac15-b8e1f08c84b2",
   "metadata": {},
   "outputs": [
    {
     "name": "stdout",
     "output_type": "stream",
     "text": [
      "http://www.pythonchallenge.com/pc/def/equality.html\n"
     ]
    }
   ],
   "source": [
    "# level 2\n",
    "raw_url = \"http://www.pythonchallenge.com/pc/def/ocr.html\"\n",
    "\n",
    "import requests\n",
    "import re\n",
    "\n",
    "html = requests.get(\"http://www.pythonchallenge.com/pc/def/ocr.html\")\n",
    "pattern = re.compile('<!--\\nfind rare characters in the mess below:\\n-->\\n\\n<!--(.*)\\n-->', re.S)\n",
    "[booktext] = re.findall(pattern, html.text)\n",
    "booktext = booktext.strip('\\n')\n",
    "removeDupl = \"\"\n",
    "for i in booktext:\n",
    "    if i not in removeDupl and i.isalpha():\n",
    "        removeDupl += i\n",
    "    else:\n",
    "        continue\n",
    "print(raw_url.replace(\"ocr\", removeDupl))"
   ]
  },
  {
   "cell_type": "code",
   "execution_count": 77,
   "id": "217dc90b-4342-4aee-88cf-87c6e4ee5830",
   "metadata": {},
   "outputs": [
    {
     "name": "stdout",
     "output_type": "stream",
     "text": [
      "jfeiauzroivgzbmpszazlutnwsdofdbiwqidjbzshfrblqgsbyfdajygcblwjcwggtdmfjetobhcmdlzxajvithekcgpkcfwqqbvkoixetpiiljanvvqjjgtctpcadzjkgucbmluaidgumlcdskunujfcjhfmbzpkzxsasdxsqqdqlaeisjezfjfdaolkjapkypwxjtlhqjknnednxunsahxqedoeqsdccmmhltcqsnwakjxdteytfaalhlgabekfmyimwrkffydghiunlroiwgkudzsqljjbsixguytfsatejmdwkbfbzifdknpacqimvehxujkszmbuyutmsompijcjojspbywlroefiwmqrsjstdjhgfwxhcnthsoosmjoqtmufoxvpvpjpkgiaqgofrhyufxxdnjiwtfqusbkdeakunqjegdkfndpwibulklgjougnivhgixsnekxjgrirbnsllpuaouvhzabilbjimrmqqxtktgcnkdljoashnekxwtsgvzwjaehgurngksokjtroovpcmygkzgeolwynsyfiodeomflmkwmj\n"
     ]
    }
   ],
   "source": [
    "# level 3\n",
    "raw_url = 'http://www.pythonchallenge.com/pc/def/equality.html'\n",
    "import requests\n",
    "import re\n",
    "\n",
    "html = requests.get('http://www.pythonchallenge.com/pc/def/equality.html')\n",
    "# print(html.text)\n",
    "pattern = re.compile('</body>\\n</html>\\n<!--\\n(.*)\\n-->', re.S)\n",
    "[letters] = re.findall(pattern, html.text)\n",
    "letters = letters.split('\\n')\n",
    "letters = ''.join(letters)\n",
    "lSize = len(letters)\n",
    "pattern = re.compile('[A-Z]{3}([a-z])[A-Z]{3}')\n",
    "result = ''\n",
    "for i in range(0, lSize-7):\n",
    "    content = letters[i:i+7]\n",
    "    items   = re.findall(pattern, content)\n",
    "    if items:\n",
    "        [letter] = items\n",
    "        # if letter not in result:\n",
    "        result += letter\n",
    "        # i += 7\n",
    "        # print(content, \"-->\", letter)\n",
    "print(result)\n",
    "# raw_in = \"abcdefghijklmnopqrstuvwxyz\"\n",
    "# new_out = \"cdefghijklmnopqrstuvwxyzab\"\n",
    "# ntrans = result.maketrans(raw_in, new_out)\n",
    "# print(result.translate(ntrans))"
   ]
  },
  {
   "cell_type": "code",
   "execution_count": 53,
   "id": "e38946b5-4e14-4bab-a57a-fc070cccaa52",
   "metadata": {},
   "outputs": [
    {
     "name": "stdout",
     "output_type": "stream",
     "text": [
      "abc\n",
      "97\n",
      "121\n",
      "122\n",
      "True\n"
     ]
    }
   ],
   "source": [
    "# test\n",
    "data = \"Abc\"\n",
    "print(data.lower())\n",
    "print(ord(\"a\"))\n",
    "print(ord(\"y\"))\n",
    "print(ord(\"z\"))\n",
    "print('a'.isalpha())"
   ]
  }
 ],
 "metadata": {
  "kernelspec": {
   "display_name": "Python 3 (ipykernel)",
   "language": "python",
   "name": "python3"
  },
  "language_info": {
   "codemirror_mode": {
    "name": "ipython",
    "version": 3
   },
   "file_extension": ".py",
   "mimetype": "text/x-python",
   "name": "python",
   "nbconvert_exporter": "python",
   "pygments_lexer": "ipython3",
   "version": "3.10.6"
  }
 },
 "nbformat": 4,
 "nbformat_minor": 5
}
